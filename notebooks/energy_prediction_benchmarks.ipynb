{
 "cells": [
  {
   "cell_type": "code",
   "execution_count": null,
   "id": "completed-manchester",
   "metadata": {
    "ExecuteTime": {
     "end_time": "2022-11-28T17:35:51.916174Z",
     "start_time": "2022-11-28T17:35:51.908660Z"
    }
   },
   "outputs": [],
   "source": [
    "import logging\n",
    "import numpy as np\n",
    "import matplotlib.pyplot as plt\n",
    "import dftqml.utils\n",
    "import dftqml.tfmodel\n",
    "import dftqml.xgb\n",
    "from os import path\n",
    "\n",
    "CNN_DIR = \"../main/models/base/\"\n",
    "XGB_DIR = \"../main/models/xgb/\"\n",
    "DATA_DIR = \"../main/data-h5\"\n",
    "N_SPLITS = 5\n",
    "EXACT = \"exact\"\n",
    "\n",
    "def sampling_source(nshots):\n",
    "    return path.join(\"sampling\", f\"nshots{nshots}\")\n",
    "\n",
    "\n",
    "def vha_source(depth):\n",
    "    return path.join(\"vha-vqe\", f\"depth{depth}\")\n",
    "\n",
    "def npf_source(depth):\n",
    "    return path.join(\"npfabric-slsqp-init\", f\"depth{depth}\")\n",
    "\n",
    "\n",
    "def cnn_path(L, N, U, source, ndata, split):\n",
    "    return path.join(CNN_DIR, f\"L{L}-N{N}-U{U}\", source, f\"ndata{ndata}\", f\"split{split}\")\n",
    "\n",
    "\n",
    "def xgb_path(L, N, U, source, ndata, split):\n",
    "    return path.join(XGB_DIR, f\"L{L}-N{N}-U{U}\", source, f\"ndata{ndata}\", f\"split{split}\")\n",
    "\n",
    "\n",
    "def data_path(L, N, U, source):\n",
    "    return path.join(DATA_DIR, f\"L{L}-N{N}-U{U}\", source)\n",
    "\n",
    "\n",
    "def history_plot(history_dict):\n",
    "    plt.plot(history_dict[\"mse\"], label=\"mse\")\n",
    "    plt.plot(history_dict[\"val_mse\"], label=\"val_mse\")\n",
    "    plt.xlabel(\"Epoch\")\n",
    "    plt.ylabel(\"Loss (mse)\")\n",
    "    plt.grid()\n",
    "    plt.yscale(\"log\")\n",
    "    plt.legend()\n",
    "\n",
    "\n",
    "def mse(prediction, exact):\n",
    "    return np.mean((np.ravel(prediction) - np.ravel(exact)) ** 2)"
   ]
  },
  {
   "cell_type": "code",
   "execution_count": null,
   "id": "useful-cardiff",
   "metadata": {
    "ExecuteTime": {
     "end_time": "2022-11-28T17:35:53.594451Z",
     "start_time": "2022-11-28T17:35:52.257206Z"
    }
   },
   "outputs": [],
   "source": [
    "L = 8\n",
    "N = 4\n",
    "U = 4.0\n",
    "\n",
    "exact_densities, exact_energies = dftqml.utils.load_dft_data(data_path(L, N, U, EXACT), 2000)\n",
    "train_x = exact_densities[:1000]\n",
    "train_y = exact_energies[:1000]\n",
    "test_x = exact_densities[1000:]\n",
    "test_y = exact_energies[1000:]"
   ]
  },
  {
   "cell_type": "markdown",
   "id": "turkish-thompson",
   "metadata": {},
   "source": [
    "# visualize a single model "
   ]
  },
  {
   "cell_type": "markdown",
   "id": "d19901a2",
   "metadata": {},
   "source": [
    "## CNN and XGB trained on Exact data"
   ]
  },
  {
   "cell_type": "code",
   "execution_count": null,
   "id": "773f3a93",
   "metadata": {},
   "outputs": [],
   "source": [
    "ndata = 1000\n",
    "plt.title(\"CNN model trained on exact data.\\n\" f\"L{L} N{N} U{U} ndata{ndata}\")\n",
    "model, history_dict = dftqml.tfmodel.load_model(\n",
    "    cnn_path(L, N, U, EXACT, ndata, 0), get_history_dict=True\n",
    ")\n",
    "\n",
    "history_plot(history_dict)\n",
    "plt.show()\n",
    "\n",
    "xgb_model = dftqml.xgb.load_xgb(xgb_path(L, N, U, EXACT, ndata, 0))\n",
    "\n",
    "plt.figure(figsize=plt.figaspect(1))\n",
    "\n",
    "plt.title(\"models trained on exact data.\\n\" f\"L{L} N{N} U{U} ndata{ndata}\")\n",
    "dftqml.utils.performance_plot(model, test_x, test_y, label=\"CNN\", s=2, alpha=0.5)\n",
    "plt.scatter(np.ravel(xgb_model.predict(test_x)), test_y, label=\"XGB\", marker='x', s=7, alpha=0.3)\n",
    "plt.legend()\n",
    "print(\"MSE on test set:\", mse(model(test_x), test_y))"
   ]
  },
  {
   "cell_type": "markdown",
   "id": "0787f517",
   "metadata": {},
   "source": [
    "## CNN trained on EVE (sampling) data"
   ]
  },
  {
   "cell_type": "code",
   "execution_count": null,
   "id": "d7c2ee27",
   "metadata": {},
   "outputs": [],
   "source": [
    "ndata = 1000\n",
    "nshots = 1000\n",
    "\n",
    "plt.title(\"model trained on sampling data.\\n\" f\"L{L} N{N} U{U} nshots{nshots} ndata{ndata}\")\n",
    "model, history_dict = dftqml.tfmodel.load_model(\n",
    "    cnn_path(L, N, U, sampling_source(nshots), ndata, 0), get_history_dict=True\n",
    ")\n",
    "\n",
    "history_plot(history_dict)\n",
    "plt.show()\n",
    "\n",
    "plt.figure(figsize=1.5 * plt.figaspect(1))\n",
    "colors = plt.rcParams[\"axes.prop_cycle\"].by_key()[\"color\"]\n",
    "dftqml.utils.performance_plot(\n",
    "    model, test_x, test_y, s=2, c=colors[0], label=\"model test set\\nprediction\"\n",
    ")\n",
    "\n",
    "sampling_densities, sampling_energies = dftqml.utils.load_dft_data(\n",
    "    data_path(L, N, U, sampling_source(nshots)), 1000\n",
    ")\n",
    "plt.plot(exact_energies[:1000], sampling_energies, \".\", c=colors[1], ms=2, label=\"sampling result\")\n",
    "plt.legend()"
   ]
  },
  {
   "cell_type": "markdown",
   "id": "13448ad9",
   "metadata": {},
   "source": [
    "## CNN trained on VQE (NPF)"
   ]
  },
  {
   "cell_type": "code",
   "execution_count": null,
   "id": "49aa2127",
   "metadata": {},
   "outputs": [],
   "source": [
    "ndata = 1000\n",
    "depth = 8\n",
    "plt.title(\"model trained on VQE (NPF) data.\\n\" f\"L{L} N{N} U{U} depth{depth} ndata{ndata}\")\n",
    "model, history_dict = dftqml.tfmodel.load_model(\n",
    "    cnn_path(L, N, U, npf_source(depth), ndata, 0), get_history_dict=True\n",
    ")\n",
    "\n",
    "history_plot(history_dict)\n",
    "plt.show()\n",
    "\n",
    "plt.figure(figsize=1.5 * plt.figaspect(1))\n",
    "colors = plt.rcParams[\"axes.prop_cycle\"].by_key()[\"color\"]\n",
    "dftqml.utils.performance_plot(\n",
    "    model, test_x, test_y, s=2, c=colors[0], label=\"model test set\\nprediction\"\n",
    ")\n",
    "\n",
    "vqe_densities, vqe_energies = dftqml.utils.load_dft_data(\n",
    "    data_path(L, N, U, npf_source(depth)), 1000\n",
    ")\n",
    "plt.plot(exact_energies[:1000], vqe_energies, \".\", ms=2, c=colors[1], label=\"VQE result\")\n",
    "plt.legend()"
   ]
  },
  {
   "cell_type": "markdown",
   "id": "1d1b376b",
   "metadata": {},
   "source": [
    "# performance plot for all datasets"
   ]
  },
  {
   "cell_type": "markdown",
   "id": "51f6946a",
   "metadata": {},
   "source": [
    "## EVE (Sampling)"
   ]
  },
  {
   "cell_type": "code",
   "execution_count": null,
   "id": "25f0056e",
   "metadata": {},
   "outputs": [],
   "source": [
    "ndata = 1000\n",
    "source_list = [EXACT, sampling_source(20), sampling_source(500), sampling_source(10000)]\n",
    "\n",
    "fig, axlist = plt.subplots(1, len(source_list), figsize=(3 * len(source_list), 3))\n",
    "colors = plt.rcParams[\"axes.prop_cycle\"].by_key()[\"color\"]\n",
    "\n",
    "for i, source in enumerate(source_list):\n",
    "    plt.sca(axlist[i])\n",
    "    # plt.subplot(1, len(source_list), i + 1)\n",
    "    plt.title(source)\n",
    "\n",
    "    model, history_dict = dftqml.tfmodel.load_model(\n",
    "        cnn_path(L, N, U, source, ndata, 1), get_history_dict=True\n",
    "    )\n",
    "    dftqml.utils.performance_plot(\n",
    "        model, test_x, test_y, s=2, c=colors[0], label=\"model test set\\nprediction\"\n",
    "    )\n",
    "    plt.ylim(*plt.gca().get_xlim())\n",
    "\n",
    "    if source != EXACT:\n",
    "        sampling_densities, sampling_energies = dftqml.utils.load_dft_data(\n",
    "            data_path(L, N, U, source), 1000\n",
    "        )\n",
    "        plt.plot(\n",
    "            exact_energies[:1000],\n",
    "            sampling_energies,\n",
    "            \".\",\n",
    "            c=colors[1],\n",
    "            ms=2,\n",
    "            label=\"sampling result\",\n",
    "        )\n",
    "\n",
    "plt.legend()\n",
    "plt.tight_layout()"
   ]
  },
  {
   "cell_type": "markdown",
   "id": "f086d7e1",
   "metadata": {},
   "source": [
    "## VQE (VHA)"
   ]
  },
  {
   "cell_type": "code",
   "execution_count": null,
   "id": "58e7e2e4",
   "metadata": {},
   "outputs": [],
   "source": [
    "ndata = 1000\n",
    "source_list = [EXACT, vha_source(1), vha_source(6)]\n",
    "\n",
    "fig, axlist = plt.subplots(1, len(source_list), figsize=(3 * len(source_list), 3))\n",
    "colors = plt.rcParams[\"axes.prop_cycle\"].by_key()[\"color\"]\n",
    "\n",
    "for i, source in enumerate(source_list):\n",
    "    plt.sca(axlist[i])\n",
    "    #plt.subplot(1, len(source_list), i + 1)\n",
    "    plt.title(source)\n",
    "\n",
    "    model, history_dict = dftqml.tfmodel.load_model(\n",
    "        cnn_path(L, N, U, source, ndata, 1), get_history_dict=True\n",
    "    )\n",
    "    dftqml.utils.performance_plot(\n",
    "        model, test_x, test_y, s=2, c=colors[0], label=\"model test set\\nprediction\"\n",
    "    )\n",
    "    plt.ylim(*plt.gca().get_xlim())\n",
    "\n",
    "    if source != EXACT:\n",
    "        vqe_densities, vqe_energies = dftqml.utils.load_dft_data(\n",
    "            data_path(L, N, U, source), 1000\n",
    "        )\n",
    "        plt.plot(exact_energies[:1000], vqe_energies, \".\", c=colors[1], ms=2, label=\"VQE result\")\n",
    "\n",
    "plt.legend()\n",
    "plt.tight_layout()"
   ]
  },
  {
   "cell_type": "markdown",
   "id": "4143d46f",
   "metadata": {},
   "source": [
    "## Combined"
   ]
  },
  {
   "cell_type": "code",
   "execution_count": null,
   "id": "81cb89db",
   "metadata": {},
   "outputs": [],
   "source": [
    "from matplotlib.lines import Line2D\n",
    "\n",
    "ms = 2.5\n",
    "alpha = 0.5\n",
    "\n",
    "ndata = 1000\n",
    "source_list = [EXACT, sampling_source(1000), vha_source(6), npf_source(6)]\n",
    "\n",
    "with plt.style.context(\"figstyle.mplstyle\"):\n",
    "    fig, axlist = plt.subplots(2, 2, figsize=(3.7, 3.7), sharex=True, sharey=True)\n",
    "    axlist = axlist.ravel()\n",
    "    colors = plt.rcParams[\"axes.prop_cycle\"].by_key()[\"color\"]\n",
    "    lims = [-5.75, -5.45]\n",
    "\n",
    "    titles = [\"Exact\", \"EVE\\nM=1000\",\n",
    "            #\"Sampling\\nnshots=2000\",\n",
    "            \"VHA d=6\",\n",
    "            \"NPF d=6\"]\n",
    "            #\"VQE NPF\\ndepth=11\"]#,\"VQE ]\n",
    "\n",
    "    for i, source in enumerate(source_list):\n",
    "        axlist[i].text(\n",
    "            -5.48,\n",
    "            -5.72,\n",
    "            titles[i],\n",
    "            ha=\"right\",\n",
    "            va=\"bottom\",\n",
    "            bbox=dict(facecolor=\"white\", edgecolor=\"black\", lw=0.5, boxstyle=\"round\", alpha=0.5),\n",
    "        )\n",
    "\n",
    "        model, history_dict = dftqml.tfmodel.load_model(\n",
    "            cnn_path(L, N, U, source, ndata, 1), get_history_dict=True\n",
    "        )\n",
    "        prediction = np.ravel(model(test_x).numpy())\n",
    "\n",
    "        axlist[i].scatter(test_y, prediction, s=ms, alpha=alpha, zorder=0, edgecolors='none')\n",
    "        #lims = [np.min([test_y, prediction]), np.max([test_y, prediction])]\n",
    "        axlist[i].plot(lims, lims, \"k--\", alpha=0.75, lw=1, zorder=-1)\n",
    "\n",
    "        # axlist[i].set_ylim(*axlist[i].get_xlim())\n",
    "\n",
    "        if source != EXACT:\n",
    "            _, train_energies = dftqml.utils.load_dft_data(data_path(L, N, U, source), 1000)\n",
    "            axlist[i].scatter(\n",
    "                exact_energies[:1000],\n",
    "                train_energies,\n",
    "                s=ms,\n",
    "                alpha=alpha,\n",
    "                zorder=1,\n",
    "                edgecolors='none'\n",
    "            )\n",
    "\n",
    "    axlist[0].set_xlim(*lims)\n",
    "    axlist[0].set_ylim(*lims)\n",
    "\n",
    "\n",
    "    blue_dot = Line2D([], [], color=colors[0], marker=\"o\", linestyle=\"None\", markersize=5)\n",
    "    orange_dot = Line2D([], [], color=colors[1], marker=\"o\", linestyle=\"None\", markersize=5)\n",
    "\n",
    "    handles = [blue_dot, orange_dot]\n",
    "    labels = [\"CNN predictions\", \"training data\"]\n",
    "    fig.legend(handles, labels, loc=\"upper center\", bbox_to_anchor= (0.51, 0.98), ncol=2)\n",
    "\n",
    "    #axlist[0].set_ylabel(\"Prediction or data\", y=0)\n",
    "    axlist[2].set_xlabel(r\"Exact $F$\", x=1)\n",
    "\n",
    "    plt.subplots_adjust(hspace=0, wspace=0)\n",
    "    lim = (plt.gca().get_xlim()[0] + 0.01, plt.gca().get_ylim()[1]-0.01) \n",
    "    for i, ax in enumerate(axlist):\n",
    "        ax.text(*lim, r'\\textbf{('f'{chr(97+i)}'r')}', ha=\"left\", va=\"top\")\n",
    "\n",
    "    plt.show()"
   ]
  },
  {
   "cell_type": "markdown",
   "id": "d7e3d2f9",
   "metadata": {},
   "source": [
    "# Systematic MSE comparison (and xval plots)"
   ]
  },
  {
   "cell_type": "markdown",
   "id": "ceca6770",
   "metadata": {},
   "source": [
    "## Sampling"
   ]
  },
  {
   "cell_type": "code",
   "execution_count": null,
   "id": "eba123b0",
   "metadata": {},
   "outputs": [],
   "source": [
    "nshots_list = np.array(\n",
    "    [20, 50, 100, 200, 500, 1000, 2000, 5000, 10000, 20000, 50000, 100000, 200000, 500000, 1000000]\n",
    ")\n",
    "source_list = [sampling_source(ns) for ns in nshots_list] + [EXACT]\n",
    "\n",
    "kfold_xval_mse = np.zeros((len(source_list), N_SPLITS))\n",
    "kfold_test_mse = np.zeros((len(source_list), N_SPLITS))\n",
    "ndata = 1000\n",
    "\n",
    "for srcidx, source in enumerate(source_list):\n",
    "    for split in range(N_SPLITS):\n",
    "        model, history = dftqml.tfmodel.load_model(\n",
    "            cnn_path(L, N, U, source, ndata, split), get_history_dict=True\n",
    "        )\n",
    "        kfold_xval_mse[srcidx, split] = history[\"val_mse\"][-1]\n",
    "        kfold_test_mse[srcidx, split] = mse(model(test_x), test_y)"
   ]
  },
  {
   "cell_type": "markdown",
   "id": "6a601004",
   "metadata": {},
   "source": [
    "### xval plot"
   ]
  },
  {
   "cell_type": "code",
   "execution_count": null,
   "id": "3606dd36",
   "metadata": {},
   "outputs": [],
   "source": [
    "plt.title(\"5-fold cross-validation\\n\" f\"L{L} N{N} U{U} ndata{ndata}\")\n",
    "plt.plot(nshots_list, kfold_xval_mse[:-1], \"_k\")\n",
    "plt.errorbar(\n",
    "    nshots_list,\n",
    "    np.mean(kfold_xval_mse[:-1], axis=1),\n",
    "    yerr=np.std(kfold_xval_mse[:-1], axis=1),\n",
    "    fmt=\"x\",\n",
    "    color=\"r\",\n",
    ")\n",
    "plt.plot(nshots_list, 4/nshots_list, ':k', label=\"4/nshots\")\n",
    "plt.ylabel(\"cross-validation loss (MSE)\")\n",
    "plt.xlabel(\"number of samples\")\n",
    "plt.yscale(\"log\")\n",
    "plt.xscale('log')\n",
    "plt.legend()\n",
    "plt.show()"
   ]
  },
  {
   "cell_type": "markdown",
   "id": "18f83f6b",
   "metadata": {},
   "source": [
    "### test set run"
   ]
  },
  {
   "cell_type": "code",
   "execution_count": null,
   "id": "6ea972eb",
   "metadata": {},
   "outputs": [],
   "source": [
    "sampling_mse = np.zeros((len(source_list)))\n",
    "sampling_errors = np.zeros((len(source_list), 1000))\n",
    "\n",
    "for srcidx, source in enumerate(source_list):\n",
    "    if source == EXACT:\n",
    "        continue  # no need to compute exact vs exact mse\n",
    "    sampling_densities, sampling_energies = dftqml.utils.load_dft_data(\n",
    "        data_path(L, N, U, source), 1000\n",
    "    )\n",
    "    sampling_errors[srcidx] = sampling_energies - exact_energies[:1000]\n",
    "    sampling_mse[srcidx] = mse(sampling_energies, exact_energies[:1000])"
   ]
  },
  {
   "cell_type": "code",
   "execution_count": null,
   "id": "80deabf0",
   "metadata": {},
   "outputs": [],
   "source": [
    "with plt.style.context(\"figstyle.mplstyle\"):\n",
    "    colors = plt.rcParams[\"axes.prop_cycle\"].by_key()[\"color\"]\n",
    "\n",
    "    fig, ax = plt.subplots(figsize=(3.5,2.4))\n",
    "\n",
    "    ax.errorbar(\n",
    "        nshots_list,\n",
    "        np.mean(kfold_test_mse[:-1], axis=1),\n",
    "        yerr=np.std(kfold_test_mse[:-1], axis=1),\n",
    "        fmt=\"none\",\n",
    "        lw=2,\n",
    "        capthick=2,\n",
    "        capsize=2,\n",
    "        color=colors[0],\n",
    "        label=r\"$\\mathcal{F}^{\\mathrm{ML}}_{\\mathrm{EVE}}$\",\n",
    "        zorder=10\n",
    "    )\n",
    "\n",
    "    factor = 20\n",
    "\n",
    "    ax.plot(nshots_list, sampling_mse[:-1], \"o\", color=colors[1], markerfacecolor=\"none\", label=r\"EVE\")\n",
    "\n",
    "    ax.axhline(np.mean(kfold_test_mse[-1]), color=colors[2], linestyle=\"--\") \n",
    "            #label=r\"$f_{\\rm ML}^{\\rm exact}$\")\n",
    "    ax.text(1e2, 1.3*np.mean(kfold_test_mse[-1]), r\"$\\mathcal{F}^{\\mathrm{ML}}_{\\mathrm{exact}}$\", \n",
    "            va=\"bottom\", ha=\"right\")\n",
    "\n",
    "    ax.plot([20, 5e5], 4 / np.array([20, 5e5]), ':k', zorder=2, alpha=0.5)#, label=r\"$4/M$\")\n",
    "    ax.text(1e2, 7 / 1e2, r\"$4\\,/\\,M$\", va=\"center\", ha=\"left\", rotation=-34)\n",
    "\n",
    "    ax.plot([20, 5e4], 4 / 10 / np.array([20, 5e4]), ':k', zorder=2, alpha=0.5)\n",
    "    #ax.text(1.1e2, 8 / 1e3, r\"$4\\,/\\,10M$\", va=\"center\", ha=\"center\", rotation=-34)\n",
    "\n",
    "    ax.plot([20, 5e3], 4 / 100 / np.array([20, 5e3]), ':k', zorder=2, alpha=0.5)\n",
    "    #ax.text(6e1, 1 / 1e3, r\"$4\\,/\\,100M$\", va=\"top\", ha=\"center\", rotation=-34)\n",
    "\n",
    "\n",
    "    ax.set_ylabel(\"MSE (against exact data)\")\n",
    "    ax.set_xlabel(r\"number of samples $M$\")\n",
    "    ax.legend()\n",
    "    ax.set_yscale(\"log\")\n",
    "    ax.set_xscale(\"log\")\n"
   ]
  },
  {
   "cell_type": "markdown",
   "id": "e20391ff",
   "metadata": {},
   "source": [
    "## VQE"
   ]
  },
  {
   "cell_type": "code",
   "execution_count": null,
   "id": "79ae3ea5",
   "metadata": {},
   "outputs": [],
   "source": [
    "source_list = (\n",
    "    [EXACT] + [vha_source(d) for d in np.arange(1, 7)] + [npf_source(d) for d in np.arange(4, 12)]\n",
    ")\n",
    "labels = (\n",
    "    [\"exact\"]\n",
    "    + [f\"VHA {d}\" for d in np.arange(1, 7)]\n",
    "    + [f\"NPF {d}\" for d in np.arange(4, 12)]\n",
    ")\n",
    "\n",
    "kfold_xval_mse = np.zeros((len(source_list), N_SPLITS))\n",
    "kfold_test_mse = np.zeros((len(source_list), N_SPLITS))\n",
    "ndata = 1000\n",
    "\n",
    "for srcidx, source in enumerate(source_list):\n",
    "    for split in range(N_SPLITS):\n",
    "        model, history = dftqml.tfmodel.load_model(\n",
    "            cnn_path(L, N, U, source, ndata, split), get_history_dict=True\n",
    "        )\n",
    "        kfold_xval_mse[srcidx, split] = history[\"val_mse\"][-1]\n",
    "        kfold_test_mse[srcidx, split] = mse(model(test_x), test_y)"
   ]
  },
  {
   "cell_type": "markdown",
   "id": "5c6bf41b",
   "metadata": {},
   "source": [
    "### xval plot"
   ]
  },
  {
   "cell_type": "code",
   "execution_count": null,
   "id": "062a69d3",
   "metadata": {},
   "outputs": [],
   "source": [
    "plt.title(\"5-fold cross-validation\\n\" f\"L{L} N{N} U{U} ndata{ndata}\")\n",
    "plt.plot(kfold_xval_mse, \"_k\")\n",
    "plt.errorbar(\n",
    "    source_list,\n",
    "    np.mean(kfold_xval_mse, axis=1),\n",
    "    yerr=np.std(kfold_xval_mse, axis=1),\n",
    "    fmt=\"x\",\n",
    "    color=\"r\",\n",
    ")\n",
    "plt.xticks(source_list, labels, rotation=90)\n",
    "\n",
    "plt.axvline(x=0.5, color='k', linestyle='--')\n",
    "plt.axvline(x=6.5, color='k', linestyle='--')\n",
    "\n",
    "plt.ylabel(\"cross-validation loss (MSE)\")\n",
    "plt.xlabel(\"VQE depth\")\n",
    "plt.yscale(\"log\")\n",
    "plt.show()"
   ]
  },
  {
   "cell_type": "markdown",
   "id": "7983c4d8",
   "metadata": {},
   "source": [
    "### test set run"
   ]
  },
  {
   "cell_type": "code",
   "execution_count": null,
   "id": "b3b91332",
   "metadata": {},
   "outputs": [],
   "source": [
    "vqe_mse = np.zeros((len(source_list)))\n",
    "vqe_squarederror_std = np.zeros((len(source_list)))\n",
    "for srcidx, source in enumerate(source_list):\n",
    "    if source == EXACT:\n",
    "        continue  # no need to compute exact vs exact mse\n",
    "    vqe_densities, vqe_energies = dftqml.utils.load_dft_data(data_path(L, N, U, source), 1000)#, 1000)\n",
    "    vqe_mse[srcidx] = mse(vqe_energies, exact_energies[:1000])\n",
    "    vqe_squarederror_std[srcidx] = np.std((vqe_energies - exact_energies[:1000])**2)"
   ]
  },
  {
   "cell_type": "code",
   "execution_count": null,
   "id": "aba85012",
   "metadata": {},
   "outputs": [],
   "source": [
    "plt.title(\"MSE of trained model and VQE vs exact data\\n\" f\"L{L} N{N} U{U} ndata{ndata}\")\n",
    "plt.plot(kfold_test_mse, \"_k\")\n",
    "plt.errorbar(\n",
    "    source_list,\n",
    "    np.mean(kfold_test_mse, axis=1),\n",
    "    yerr=np.std(kfold_test_mse, axis=1),\n",
    "    fmt=\"x\",\n",
    "    color=\"r\",\n",
    "    label=\"model trained on VQE\\n(MSE on test set)\",\n",
    ")\n",
    "plt.plot(np.arange(1, 7), vqe_mse[1:7], \".-\", label=\"VHA-VQE results\")\n",
    "plt.plot(np.arange(7, 15), vqe_mse[7:15], \".-\", label=\"NPF-VQE results\")\n",
    "\n",
    "\n",
    "plt.axvline(x=0.5, color='k', linestyle='--')\n",
    "plt.axvline(x=6.5, color='k', linestyle='--')\n",
    "\n",
    "plt.xticks(source_list, labels, rotation=90)\n",
    "plt.ylabel(\"MSE (against exact data)\")\n",
    "plt.xlabel(\"VQE depth\")\n",
    "plt.legend()\n",
    "plt.yscale(\"log\")\n",
    "plt.show()"
   ]
  },
  {
   "cell_type": "markdown",
   "id": "0180ed5c",
   "metadata": {},
   "source": [
    "### add XGB"
   ]
  },
  {
   "cell_type": "code",
   "execution_count": null,
   "id": "494365f6",
   "metadata": {},
   "outputs": [],
   "source": [
    "xgb_kfold_test_mse = np.zeros((len(source_list), N_SPLITS))\n",
    "ndata = 1000\n",
    "\n",
    "for srcidx, source in enumerate(source_list):\n",
    "    for split in range(N_SPLITS):\n",
    "        model = dftqml.xgb.load_xgb(xgb_path(L, N, U, source, ndata, split))\n",
    "        xgb_kfold_test_mse[srcidx, split] = mse(model.predict(test_x), test_y)"
   ]
  },
  {
   "cell_type": "markdown",
   "id": "f8a29981",
   "metadata": {},
   "source": [
    "### final plot"
   ]
  },
  {
   "cell_type": "code",
   "execution_count": null,
   "id": "6f091036",
   "metadata": {},
   "outputs": [],
   "source": [
    "with plt.style.context(\"figstyle.mplstyle\"):\n",
    "    colors = plt.rcParams[\"axes.prop_cycle\"].by_key()[\"color\"]\n",
    "\n",
    "    plt.figure(figsize=(3.5, 2.4))\n",
    "\n",
    "    ticks = np.concatenate([np.arange(0, 7), np.arange(8, 16)]) \n",
    "\n",
    "    labels = (\n",
    "        [\"\"]\n",
    "        + [f\"{d}\" for d in np.arange(1, 7)]\n",
    "        + [f\"{d}\" for d in np.arange(4, 12)]\n",
    "    )\n",
    "\n",
    "    plt.errorbar(\n",
    "        ticks,\n",
    "        np.mean(kfold_test_mse, axis=1),\n",
    "        yerr=np.std(kfold_test_mse, axis=1),\n",
    "        fmt=\"none\",\n",
    "        lw=3,\n",
    "        capsize=3,\n",
    "        capthick=2,\n",
    "        color=colors[0],\n",
    "        label=r\"$\\mathcal{F}^{\\mathrm{ML}}_{\\mathrm{VQE}}$\",\n",
    "        zorder=10\n",
    "    )\n",
    "\n",
    "    plt.plot(ticks, vqe_mse, \"o\", markerfacecolor='none', color=colors[1], label=\"VQE\", zorder=-1)\n",
    "\n",
    "    plt.axvline(x=7, color='k', linestyle='-', lw=1)\n",
    "\n",
    "    plt.xticks(ticks[1:], labels[1:], rotation=0)\n",
    "    plt.xlim(0.5, len(source_list) + 0.5)\n",
    "    plt.ylim(5e-6, 5e-1)\n",
    "\n",
    "    plt.ylabel(\"MSE (against exact data)\")\n",
    "    plt.text(3.5, 1e-6, \"depth $d$ (VHA)\", ha=\"center\", va=\"center\")\n",
    "    plt.text(11, 1e-6, \"depth $d$ (NPF)\", ha=\"center\", va=\"center\")\n",
    "    plt.legend()\n",
    "    plt.yscale(\"log\")\n",
    "\n",
    "    ax = plt.gca()\n",
    "    ax2 = ax.twiny()\n",
    "    ax2.set_xlim(ax.get_xlim())\n",
    "    num_params_ticks = [d for d in range(1, 7)] + [8, 9, 10, 11, 13, 15]\n",
    "    num_params_labels = [4*d for d in range(1, 7)] + [14*d for d in [4, 5, 6, 7, 9, 11]]\n",
    "    ax2.set_xticks(num_params_ticks, num_params_labels)\n",
    "    ax2.set_xlabel(\"number of parameters\")"
   ]
  }
 ],
 "metadata": {
  "hide_input": false,
  "kernelspec": {
   "display_name": "Python 3 (ipykernel)",
   "language": "python",
   "name": "python3"
  },
  "language_info": {
   "codemirror_mode": {
    "name": "ipython",
    "version": 3
   },
   "file_extension": ".py",
   "mimetype": "text/x-python",
   "name": "python",
   "nbconvert_exporter": "python",
   "pygments_lexer": "ipython3",
   "version": "3.9.19"
  },
  "toc": {
   "base_numbering": 1,
   "nav_menu": {},
   "number_sections": true,
   "sideBar": true,
   "skip_h1_title": false,
   "title_cell": "Table of Contents",
   "title_sidebar": "Contents",
   "toc_cell": false,
   "toc_position": {},
   "toc_section_display": true,
   "toc_window_display": true
  }
 },
 "nbformat": 4,
 "nbformat_minor": 5
}
