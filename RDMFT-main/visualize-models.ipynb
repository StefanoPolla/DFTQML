{
 "cells": [
  {
   "cell_type": "code",
   "execution_count": 16,
   "id": "f3badb8a",
   "metadata": {},
   "outputs": [],
   "source": [
    "import numpy as np\n",
    "import matplotlib.pyplot as plt\n",
    "import dftqml.utils\n",
    "import dftqml.tfmodel\n",
    "import dftqml.xgb\n",
    "from os import path\n",
    "import h5py\n",
    "\n",
    "import absl.logging\n",
    "absl.logging.set_verbosity('error')\n",
    "\n",
    "\n",
    "\n",
    "DFT_CNN_DIR = \"./models/dftio/cnn\"\n",
    "RDMFT_CNN_DIR = \"./models/rdmftio/cnn\"\n",
    "DATA_DIR = \"./data\"\n",
    "N_SPLITS = 5\n",
    "\n",
    "def history_plot(history_dict):\n",
    "    plt.plot(history_dict[\"mse\"], label=\"mse\")\n",
    "    plt.plot(history_dict[\"val_mse\"], label=\"val_mse\")\n",
    "    plt.xlabel(\"Epoch\")\n",
    "    plt.ylabel(\"Loss (mse)\")\n",
    "    plt.grid()\n",
    "    plt.yscale(\"log\")\n",
    "    plt.legend()\n",
    "\n",
    "def dft_cnn_path(L, N, U, ndata, split):\n",
    "    return path.join(DFT_CNN_DIR, f\"L{L}-N{N}-U{U}\", f\"ndata{ndata}\", f\"split{split}\")\n",
    "\n",
    "def rdmft_cnn_path(L, N, U, ndata, split):\n",
    "    return path.join(RDMFT_CNN_DIR, f\"L{L}-N{N}-U{U}\", f\"ndata{ndata}\", f\"split{split}\")\n",
    "\n",
    "def mse(prediction, exact):\n",
    "    return np.mean((np.ravel(prediction) - np.ravel(exact)) ** 2)"
   ]
  },
  {
   "cell_type": "code",
   "execution_count": 17,
   "id": "5e28f266",
   "metadata": {},
   "outputs": [],
   "source": [
    "L = 8\n",
    "N = 8\n",
    "U = 4.0\n",
    "max_ndata = 50000\n",
    "n_test_data = 1000\n",
    "input_file = path.join(DATA_DIR, f\"L{L}-N{N}-U{U}.hdf5\")\n",
    "\n",
    "with h5py.File(input_file, \"r\") as f:\n",
    "    densities = f[\"densities\"][:max_ndata]\n",
    "    dft_energies = f[\"dft_energies\"][:max_ndata]  # kinetic + interaction energy\n",
    "    one_rdms = f[\"one_rdms\"][:max_ndata]\n",
    "    rdmft_energies = f[\"rdmft_energies\"][:max_ndata]\n",
    "\n",
    "    test_densities = f[\"densities\"][max_ndata : max_ndata + n_test_data]\n",
    "    test_dft_energies = f[\"dft_energies\"][\n",
    "        max_ndata : max_ndata + n_test_data\n",
    "    ]  # kinetic + interaction energy\n",
    "    test_one_rdms = f[\"one_rdms\"][max_ndata : max_ndata + n_test_data]\n",
    "    test_rdmft_energies = f[\"rdmft_energies\"][max_ndata : max_ndata + n_test_data]\n",
    "\n",
    "# transpose RDMs so the locality index is last, as expected by the data augmentation and model\n",
    "one_rdms = one_rdms.transpose(0, 2, 1)\n",
    "test_one_rdms = test_one_rdms.transpose(0, 2, 1)"
   ]
  },
  {
   "cell_type": "markdown",
   "id": "2a5f51fe",
   "metadata": {},
   "source": [
    "# visualize a single model"
   ]
  },
  {
   "cell_type": "markdown",
   "id": "8a3021f0",
   "metadata": {},
   "source": [
    "### DFT CNN"
   ]
  },
  {
   "cell_type": "code",
   "execution_count": null,
   "id": "3b5f3ee1",
   "metadata": {},
   "outputs": [],
   "source": [
    "ndata = 1000\n",
    "\n",
    "# History plot\n",
    "plt.title(\"CNN model trained on exact data.\\n\" f\"L{L} N{N} U{U} ndata{ndata}\")\n",
    "model, history_dict = dftqml.tfmodel.load_model(\n",
    "    dft_cnn_path(L, N, U, ndata, 0), get_history_dict=True\n",
    ")\n",
    "history_plot(history_dict)\n",
    "plt.show()\n",
    "\n",
    "\n",
    "# Performance plot\n",
    "plt.figure(figsize=plt.figaspect(1))\n",
    "plt.title(\"models trained on exact data.\\n\" f\"L{L} N{N} U{U} ndata{ndata}\")\n",
    "dftqml.utils.performance_plot(model, test_densities, test_dft_energies, label=\"CNN\", s=2, alpha=0.5)\n",
    "plt.legend()\n",
    "print(\"MSE on test set:\", mse(model(test_densities), test_dft_energies))"
   ]
  },
  {
   "cell_type": "markdown",
   "id": "39432642",
   "metadata": {},
   "source": [
    "### RDMFT CNN"
   ]
  },
  {
   "cell_type": "code",
   "execution_count": null,
   "id": "4b17a2c3",
   "metadata": {},
   "outputs": [],
   "source": [
    "ndata = 1000\n",
    "\n",
    "# History plot\n",
    "plt.title(\"RDMFT CNN model trained on exact data.\\n\" f\"L{L} N{N} U{U} ndata{ndata}\")\n",
    "model, history_dict = dftqml.tfmodel.load_model(\n",
    "    rdmft_cnn_path(L, N, U, ndata, 0), get_history_dict=True\n",
    ")\n",
    "history_plot(history_dict)\n",
    "plt.show()\n",
    "\n",
    "\n",
    "# Performance plot\n",
    "plt.figure(figsize=plt.figaspect(1))\n",
    "plt.title(\"RDMFT CNN models trained on exact data.\\n\" f\"L{L} N{N} U{U} ndata{ndata}\")\n",
    "dftqml.utils.performance_plot(model, test_one_rdms, test_rdmft_energies, label=\"CNN\", s=2, alpha=0.5)\n",
    "plt.legend()\n",
    "print(\"MSE on test set:\", mse(model(test_one_rdms), test_rdmft_energies))"
   ]
  },
  {
   "cell_type": "markdown",
   "id": "52f34cef",
   "metadata": {},
   "source": [
    "## MSE scaling with training set size"
   ]
  },
  {
   "cell_type": "code",
   "execution_count": 20,
   "id": "095a86f4",
   "metadata": {},
   "outputs": [],
   "source": [
    "ndata_list = np.array([100, 200, 500, 1000, 2000, 5000, 10000, 20000, 50000])\n",
    "\n",
    "def mse_model_dft(ndata, split):\n",
    "    model = dftqml.tfmodel.load_model(dft_cnn_path(L, N, U, ndata, split), get_history_dict=False)\n",
    "    return mse(model(test_densities), test_dft_energies)\n",
    "\n",
    "def mse_model_rdmft(ndata, split):\n",
    "    try:\n",
    "        model = dftqml.tfmodel.load_model(rdmft_cnn_path(L, N, U, ndata, split), \n",
    "                                          get_history_dict=False)\n",
    "        return mse(model(test_one_rdms), test_rdmft_energies)\n",
    "    except (FileNotFoundError, OSError):\n",
    "        return None\n",
    "\n",
    "mse_list_dft = np.array([[mse_model_dft(ndata, split) for split in range(N_SPLITS)]\n",
    "                     for ndata in ndata_list])\n",
    "\n",
    "mse_list_rdmft = np.array([[mse_model_rdmft(ndata, split) for split in range(N_SPLITS)]\n",
    "                     for ndata in ndata_list])"
   ]
  },
  {
   "cell_type": "code",
   "execution_count": null,
   "id": "19519412",
   "metadata": {},
   "outputs": [],
   "source": [
    "# *** DFT ***\n",
    "plt.plot(ndata_list, mse_list_dft, \"_\", c='C0', alpha=1)\n",
    "plt.errorbar(ndata_list, np.mean(mse_list_dft, axis=1), np.std(mse_list_dft, axis=1), label=\"DFT\")\n",
    "\n",
    "# Fit a linear model to the log-log data\n",
    "log_ndata = np.log10(ndata_list)\n",
    "log_mse = np.log10(np.mean(mse_list_dft, axis=1))\n",
    "coefficients = np.polyfit(log_ndata[:3], log_mse[:3], 1)\n",
    "poly = np.poly1d(coefficients)\n",
    "plt.plot(\n",
    "    ndata_list, 10 ** poly(log_ndata), label=f\"Fit DFT: slope={coefficients[0]:.2f}\", linestyle=\"--\", c='k'\n",
    ")\n",
    "\n",
    "\n",
    "# *** RDMFT ***\n",
    "mask = np.all(mse_list_rdmft != None, axis=1)\n",
    "plt.plot(ndata_list[mask], mse_list_rdmft[mask], \"_\", c='C1', alpha=1)\n",
    "plt.errorbar(\n",
    "    ndata_list[mask],\n",
    "    np.mean(mse_list_rdmft[mask], axis=1),\n",
    "    np.std(mse_list_rdmft[mask].astype(float), axis=1),\n",
    "    label=\"RDMFT\"\n",
    ")\n",
    "\n",
    "plt.legend()\n",
    "plt.xscale(\"log\")\n",
    "plt.yscale(\"log\")\n",
    "plt.xlabel(\"Number of training data\")\n",
    "plt.ylabel(\"MSE on test set\")"
   ]
  },
  {
   "cell_type": "code",
   "execution_count": null,
   "id": "ad2fe98a",
   "metadata": {},
   "outputs": [],
   "source": [
    "np.prod(np.arange(1,9))"
   ]
  },
  {
   "cell_type": "code",
   "execution_count": null,
   "id": "cfb79b65",
   "metadata": {},
   "outputs": [],
   "source": []
  }
 ],
 "metadata": {
  "hide_input": false,
  "kernelspec": {
   "display_name": "Python 3",
   "language": "python",
   "name": "python3"
  },
  "language_info": {
   "codemirror_mode": {
    "name": "ipython",
    "version": 3
   },
   "file_extension": ".py",
   "mimetype": "text/x-python",
   "name": "python",
   "nbconvert_exporter": "python",
   "pygments_lexer": "ipython3",
   "version": "3.9.19"
  },
  "toc": {
   "base_numbering": 1,
   "nav_menu": {},
   "number_sections": true,
   "sideBar": true,
   "skip_h1_title": false,
   "title_cell": "Table of Contents",
   "title_sidebar": "Contents",
   "toc_cell": false,
   "toc_position": {},
   "toc_section_display": true,
   "toc_window_display": true
  }
 },
 "nbformat": 4,
 "nbformat_minor": 5
}
